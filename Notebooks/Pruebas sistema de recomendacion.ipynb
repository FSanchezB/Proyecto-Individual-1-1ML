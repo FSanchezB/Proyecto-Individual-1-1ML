{
 "cells": [
  {
   "cell_type": "markdown",
   "metadata": {},
   "source": [
    "**Machine learning**"
   ]
  },
  {
   "cell_type": "code",
   "execution_count": 1,
   "metadata": {},
   "outputs": [],
   "source": [
    "import pandas as pd #librerias necesarias\n",
    "import numpy as np"
   ]
  },
  {
   "cell_type": "code",
   "execution_count": 2,
   "metadata": {},
   "outputs": [
    {
     "name": "stdout",
     "output_type": "stream",
     "text": [
      "<class 'pandas.core.frame.DataFrame'>\n",
      "RangeIndex: 45464 entries, 0 to 45463\n",
      "Data columns (total 39 columns):\n",
      " #   Column               Non-Null Count  Dtype  \n",
      "---  ------               --------------  -----  \n",
      " 0   Unnamed: 0           45464 non-null  int64  \n",
      " 1   budget               45376 non-null  float64\n",
      " 2   Id_Pelicula          45376 non-null  float64\n",
      " 3   original_language    45365 non-null  object \n",
      " 4   overview             44435 non-null  object \n",
      " 5   popularity           45376 non-null  float64\n",
      " 6   release_date         45376 non-null  object \n",
      " 7   revenue              45376 non-null  float64\n",
      " 8   runtime              45130 non-null  float64\n",
      " 9   status               45296 non-null  object \n",
      " 10  tagline              20398 non-null  object \n",
      " 11  title                45376 non-null  object \n",
      " 12  vote_average         45376 non-null  float64\n",
      " 13  vote_count           45376 non-null  float64\n",
      " 14  return               45376 non-null  float64\n",
      " 15  release_year         45376 non-null  float64\n",
      " 16  day_of_week_release  45376 non-null  object \n",
      " 17  Id_coleccion         4488 non-null   float64\n",
      " 18  coleccion            4488 non-null   object \n",
      " 19  Id_genero_1          42992 non-null  float64\n",
      " 20  genero_1             42992 non-null  object \n",
      " 21  Id_genero_2          28445 non-null  float64\n",
      " 22  genero_2             28445 non-null  object \n",
      " 23  Id_genero_3          13972 non-null  float64\n",
      " 24  genero_3             13972 non-null  object \n",
      " 25  codigo_idioma_1      41608 non-null  object \n",
      " 26  idioma_1             41387 non-null  object \n",
      " 27  codigo_idioma_2      7893 non-null   object \n",
      " 28  idioma_2             7760 non-null   object \n",
      " 29  produccion_1         33580 non-null  object \n",
      " 30  Id_produccion_1      33580 non-null  float64\n",
      " 31  produccion_2         17003 non-null  object \n",
      " 32  Id_produccion_2      17003 non-null  float64\n",
      " 33  produccion_3         4327 non-null   object \n",
      " 34  Id_produccion_3      4327 non-null   float64\n",
      " 35  codigo_1             39164 non-null  object \n",
      " 36  pais_1               39165 non-null  object \n",
      " 37  codigo_2             7024 non-null   object \n",
      " 38  pais_2               7026 non-null   object \n",
      "dtypes: float64(16), int64(1), object(22)\n",
      "memory usage: 13.5+ MB\n"
     ]
    }
   ],
   "source": [
    "df=pd.read_csv(r'C:\\Users\\Fernando\\Desktop\\Proyecto 1\\Proyecto-Individual-1-ML\\data procesada para funciones\\data_ml') #imprtamos la data\n",
    "df.info()"
   ]
  },
  {
   "cell_type": "code",
   "execution_count": 3,
   "metadata": {},
   "outputs": [
    {
     "name": "stdout",
     "output_type": "stream",
     "text": [
      "<class 'pandas.core.frame.DataFrame'>\n",
      "RangeIndex: 45464 entries, 0 to 45463\n",
      "Data columns (total 6 columns):\n",
      " #   Column     Non-Null Count  Dtype \n",
      "---  ------     --------------  ----- \n",
      " 0   title      45376 non-null  object\n",
      " 1   coleccion  4488 non-null   object\n",
      " 2   overview   44435 non-null  object\n",
      " 3   genero_1   42992 non-null  object\n",
      " 4   genero_2   28445 non-null  object\n",
      " 5   genero_3   13972 non-null  object\n",
      "dtypes: object(6)\n",
      "memory usage: 2.1+ MB\n"
     ]
    }
   ],
   "source": [
    "df=df[['title', 'coleccion', 'overview', 'genero_1', 'genero_2', 'genero_3']] #reducimos el df a las columnas relevantes\n",
    "df.info()"
   ]
  },
  {
   "cell_type": "code",
   "execution_count": 4,
   "metadata": {},
   "outputs": [
    {
     "name": "stdout",
     "output_type": "stream",
     "text": [
      "<class 'pandas.core.frame.DataFrame'>\n",
      "RangeIndex: 45464 entries, 0 to 45463\n",
      "Data columns (total 6 columns):\n",
      " #   Column     Non-Null Count  Dtype \n",
      "---  ------     --------------  ----- \n",
      " 0   title      45464 non-null  object\n",
      " 1   coleccion  45464 non-null  object\n",
      " 2   overview   45464 non-null  object\n",
      " 3   genero_1   45464 non-null  object\n",
      " 4   genero_2   45464 non-null  object\n",
      " 5   genero_3   45464 non-null  object\n",
      "dtypes: object(6)\n",
      "memory usage: 2.1+ MB\n"
     ]
    }
   ],
   "source": [
    "df=df.fillna('') #llenamos los nulos con '' para que al momento de analizar el lenguaje natural, no se procese nada si hay nulos\n",
    "df.info()"
   ]
  },
  {
   "cell_type": "markdown",
   "metadata": {},
   "source": [
    "Modelo con features **overview, genero 1,2 y 3**"
   ]
  },
  {
   "cell_type": "code",
   "execution_count": 5,
   "metadata": {},
   "outputs": [],
   "source": [
    "df['combined_features'] = df['overview'] + ' ' + df['genero_1'] + ' ' + df['genero_2'] + ' ' + df['genero_3'] #creamos la columna con lo datos que vamos a usar"
   ]
  },
  {
   "cell_type": "code",
   "execution_count": 6,
   "metadata": {},
   "outputs": [
    {
     "data": {
      "text/plain": [
       "0        Led by Woody, Andy's toys live happily in his ...\n",
       "1        When siblings Judy and Peter discover an encha...\n",
       "2        A family wedding reignites the ancient feud be...\n",
       "3        Cheated on, mistreated and stepped on, the wom...\n",
       "4        Just when George Banks has recovered from his ...\n",
       "                               ...                        \n",
       "45459                                       Family Comedy \n",
       "45460                               Animation Horror Drama\n",
       "45461                                        Documentary  \n",
       "45462                                    Adventure Family \n",
       "45463                               Mystery Drama Thriller\n",
       "Name: combined_features, Length: 45464, dtype: object"
      ]
     },
     "execution_count": 6,
     "metadata": {},
     "output_type": "execute_result"
    }
   ],
   "source": [
    "df['combined_features'] #vemos los datos"
   ]
  },
  {
   "cell_type": "code",
   "execution_count": 7,
   "metadata": {},
   "outputs": [],
   "source": [
    "from sklearn.feature_extraction.text import TfidfVectorizer #impoortamos \n",
    "\n",
    "tfidf = TfidfVectorizer(stop_words='english') #instanciamos\n",
    "matriz_tfidf = tfidf.fit_transform(df['combined_features']) #aplicamos el TF-IDF a la columna de features combinados\n"
   ]
  },
  {
   "cell_type": "code",
   "execution_count": 8,
   "metadata": {},
   "outputs": [],
   "source": [
    "from sklearn.metrics.pairwise import cosine_similarity\n",
    "cosine_sim = cosine_similarity(matriz_tfidf, matriz_tfidf) #calculamos la similitud del coseno entre las 45000 peliculas usando la matriz TF-IDF\n"
   ]
  },
  {
   "cell_type": "code",
   "execution_count": 41,
   "metadata": {},
   "outputs": [],
   "source": [
    "indices = pd.Series(df.index, index=df['title']).drop_duplicates()\n",
    "\n",
    "def get_recomendacion(title, cosine_sim=cosine_sim):\n",
    "    idx = indices[title]\n",
    "\n",
    "    sim_scores = list(enumerate(cosine_sim[idx]))\n",
    "\n",
    "    sim_scores = sorted(sim_scores, key=lambda x: x[1], reverse=True)\n",
    "\n",
    "    sim_scores = sim_scores[1:6]\n",
    "\n",
    "    movie_indices = [i[0] for i in sim_scores]\n",
    "\n",
    "    return df['title'].iloc[movie_indices]\n"
   ]
  },
  {
   "cell_type": "code",
   "execution_count": 10,
   "metadata": {},
   "outputs": [
    {
     "name": "stdout",
     "output_type": "stream",
     "text": [
      "1152                        The Empire Strikes Back\n",
      "30400                 The Star Wars Holiday Special\n",
      "26525                  Star Wars: The Force Awakens\n",
      "1165                             Return of the Jedi\n",
      "23787                              Loser Takes All!\n",
      "36412                                    Hokuspokus\n",
      "34112    Samson and the Seven Miracles of the World\n",
      "1265                                   Mad Dog Time\n",
      "26419                              TekWar: TekLords\n",
      "22825                                  Scott Joplin\n",
      "Name: title, dtype: object\n"
     ]
    }
   ],
   "source": [
    "print(get_recomendacion('Star Wars'))\n"
   ]
  },
  {
   "cell_type": "markdown",
   "metadata": {},
   "source": [
    "Modelo con **overview, genero_1, coleccion**   (Mejor y mas eficiente modelo)"
   ]
  },
  {
   "cell_type": "code",
   "execution_count": 11,
   "metadata": {},
   "outputs": [],
   "source": [
    "df=pd.read_csv(r'C:\\Users\\Fernando\\Desktop\\Proyecto 1\\Proyecto-Individual-1-ML\\data procesada para funciones\\data_ml')\n"
   ]
  },
  {
   "cell_type": "code",
   "execution_count": 30,
   "metadata": {},
   "outputs": [
    {
     "name": "stdout",
     "output_type": "stream",
     "text": [
      "<class 'pandas.core.frame.DataFrame'>\n",
      "RangeIndex: 45464 entries, 0 to 45463\n",
      "Data columns (total 5 columns):\n",
      " #   Column       Non-Null Count  Dtype \n",
      "---  ------       --------------  ----- \n",
      " 0   Id_Pelicula  45464 non-null  object\n",
      " 1   title        45464 non-null  object\n",
      " 2   coleccion    45464 non-null  object\n",
      " 3   overview     45464 non-null  object\n",
      " 4   genero_1     45464 non-null  object\n",
      "dtypes: object(5)\n",
      "memory usage: 1.7+ MB\n"
     ]
    }
   ],
   "source": [
    "df=df[['Id_Pelicula','title', 'coleccion', 'overview', 'genero_1']]\n",
    "df=df.fillna('')\n",
    "df.info()"
   ]
  },
  {
   "cell_type": "code",
   "execution_count": 31,
   "metadata": {},
   "outputs": [
    {
     "data": {
      "text/plain": [
       "0        Led by Woody, Andy's toys live happily in his ...\n",
       "1        When siblings Judy and Peter discover an encha...\n",
       "2        A family wedding reignites the ancient feud be...\n",
       "3        Cheated on, mistreated and stepped on, the wom...\n",
       "4        Just when George Banks has recovered from his ...\n",
       "                               ...                        \n",
       "45459                                              Family \n",
       "45460                                           Animation \n",
       "45461                                         Documentary \n",
       "45462                                           Adventure \n",
       "45463                                             Mystery \n",
       "Name: combined_features, Length: 45464, dtype: object"
      ]
     },
     "execution_count": 31,
     "metadata": {},
     "output_type": "execute_result"
    }
   ],
   "source": [
    "df['combined_features'] = df['overview'] + ' ' + df['genero_1'] + ' ' + df['coleccion']\n",
    "df['combined_features']"
   ]
  },
  {
   "cell_type": "code",
   "execution_count": 35,
   "metadata": {},
   "outputs": [],
   "source": [
    "from sklearn.feature_extraction.text import TfidfVectorizer\n",
    "tfidf = TfidfVectorizer(stop_words='english')\n",
    "matriz_tfidf_1 = tfidf.fit_transform(df['combined_features'])"
   ]
  },
  {
   "cell_type": "code",
   "execution_count": 36,
   "metadata": {},
   "outputs": [],
   "source": [
    "from sklearn.metrics.pairwise import cosine_similarity\n",
    "cosine_sim = cosine_similarity(matriz_tfidf_1, matriz_tfidf_1)"
   ]
  },
  {
   "cell_type": "code",
   "execution_count": 39,
   "metadata": {},
   "outputs": [],
   "source": [
    "indices = pd.Series(df.index, index=df['title']).drop_duplicates()\n",
    "\n",
    "def get_recomendacion(title, cosine_sim=cosine_sim):\n",
    "    idx = indices[title]\n",
    "\n",
    "    sim_scores = list(enumerate(cosine_sim[idx]))\n",
    "\n",
    "    sim_scores = sorted(sim_scores, key=lambda x: x[1], reverse=True)\n",
    "\n",
    "    sim_scores = sim_scores[1:6]\n",
    "\n",
    "    movie_indices = [i[0] for i in sim_scores]\n",
    "\n",
    "    return df['title'].iloc[movie_indices]\n"
   ]
  },
  {
   "cell_type": "code",
   "execution_count": 43,
   "metadata": {},
   "outputs": [
    {
     "name": "stdout",
     "output_type": "stream",
     "text": [
      "1152                               The Empire Strikes Back\n",
      "30400                        The Star Wars Holiday Special\n",
      "26525                         Star Wars: The Force Awakens\n",
      "1165                                    Return of the Jedi\n",
      "15446    Empire of Dreams: The Story of the Star Wars T...\n",
      "Name: title, dtype: object\n"
     ]
    }
   ],
   "source": [
    "print(get_recomendacion('Star Wars')) #da mejor resultado y es menos intensiva y toma menos tiempo\n"
   ]
  },
  {
   "cell_type": "markdown",
   "metadata": {},
   "source": [
    "**Agregando actores**"
   ]
  },
  {
   "cell_type": "code",
   "execution_count": 18,
   "metadata": {},
   "outputs": [
    {
     "name": "stderr",
     "output_type": "stream",
     "text": [
      "C:\\Users\\Fernando\\AppData\\Local\\Temp\\ipykernel_18076\\704391271.py:1: DtypeWarning: Columns (116,118,120,122,124,126,128,130,132,134,136,138,140,142,144,146,148,150,152,154,156,158,160,162,164,166,168,170,172,174,176,178,180,182,184,186,188,190,192,194,196,198,200,202,204,206,208,210,212,214,216,218,220,222,224,226,228,230,232,234,236,238,240,242,244,246,248,250,252,254,256,258,260,262,264,266,268,270,272,274,276,278,280,282,284,286,288,290,292,294,296,298,300,302,304,306,308,310,312,314,316,318,320,322,324,326,328,330,332,334,336,338,340,342,344,346,348,350,352,354,356,358,360,362,364,366,368,370,372,374,376,378,380,382,384,386,388,390,392,394,396,398,400,402,404,406,408,410,412,414,416,418,420,422,424,426,428,430,432,434,436,438,440,442,444,446,448,450,452,454,456,458,460,462,464,466,468,470,472,474,476,478,480,482,484,486,488,490,492,494,496,498,500,502,504,506,508,510,512,514,516,518,520,522,524,526,528,530,532,534,536,538,540,542,544,546,548,550,552,554,556,558,560,562,564,566,568,570,572,574,576,578,580,582,584,586,588,590,592,594,596,598,600,602,604,606,608,610,612,614,616,618,620,622,624,626) have mixed types. Specify dtype option on import or set low_memory=False.\n",
      "  df_act=pd.read_csv(r'C:\\Users\\Fernando\\Desktop\\Proyecto 1\\Proyecto-Individual-1-ML\\data procesada para funciones\\actores_procesado')\n"
     ]
    },
    {
     "data": {
      "text/html": [
       "<div>\n",
       "<style scoped>\n",
       "    .dataframe tbody tr th:only-of-type {\n",
       "        vertical-align: middle;\n",
       "    }\n",
       "\n",
       "    .dataframe tbody tr th {\n",
       "        vertical-align: top;\n",
       "    }\n",
       "\n",
       "    .dataframe thead th {\n",
       "        text-align: right;\n",
       "    }\n",
       "</style>\n",
       "<table border=\"1\" class=\"dataframe\">\n",
       "  <thead>\n",
       "    <tr style=\"text-align: right;\">\n",
       "      <th></th>\n",
       "      <th>Unnamed: 0</th>\n",
       "      <th>Id_Pelicula</th>\n",
       "      <th>Actor 1</th>\n",
       "      <th>Actor 1 Id</th>\n",
       "      <th>Actor 2</th>\n",
       "      <th>Actor 2 Id</th>\n",
       "      <th>Actor 3</th>\n",
       "      <th>Actor 3 Id</th>\n",
       "      <th>Actor 4</th>\n",
       "      <th>Actor 4 Id</th>\n",
       "      <th>...</th>\n",
       "      <th>Actor 309</th>\n",
       "      <th>Actor 309 Id</th>\n",
       "      <th>Actor 310</th>\n",
       "      <th>Actor 310 Id</th>\n",
       "      <th>Actor 311</th>\n",
       "      <th>Actor 311 Id</th>\n",
       "      <th>Actor 312</th>\n",
       "      <th>Actor 312 Id</th>\n",
       "      <th>Actor 313</th>\n",
       "      <th>Actor 313 Id</th>\n",
       "    </tr>\n",
       "  </thead>\n",
       "  <tbody>\n",
       "    <tr>\n",
       "      <th>0</th>\n",
       "      <td>0</td>\n",
       "      <td>862</td>\n",
       "      <td>Tom Hanks</td>\n",
       "      <td>31.0</td>\n",
       "      <td>Tim Allen</td>\n",
       "      <td>12898.0</td>\n",
       "      <td>Don Rickles</td>\n",
       "      <td>7167.0</td>\n",
       "      <td>Jim Varney</td>\n",
       "      <td>12899.0</td>\n",
       "      <td>...</td>\n",
       "      <td>NaN</td>\n",
       "      <td>NaN</td>\n",
       "      <td>NaN</td>\n",
       "      <td>NaN</td>\n",
       "      <td>NaN</td>\n",
       "      <td>NaN</td>\n",
       "      <td>NaN</td>\n",
       "      <td>NaN</td>\n",
       "      <td>NaN</td>\n",
       "      <td>NaN</td>\n",
       "    </tr>\n",
       "    <tr>\n",
       "      <th>1</th>\n",
       "      <td>1</td>\n",
       "      <td>8844</td>\n",
       "      <td>Robin Williams</td>\n",
       "      <td>2157.0</td>\n",
       "      <td>Jonathan Hyde</td>\n",
       "      <td>8537.0</td>\n",
       "      <td>Kirsten Dunst</td>\n",
       "      <td>205.0</td>\n",
       "      <td>Bradley Pierce</td>\n",
       "      <td>145151.0</td>\n",
       "      <td>...</td>\n",
       "      <td>NaN</td>\n",
       "      <td>NaN</td>\n",
       "      <td>NaN</td>\n",
       "      <td>NaN</td>\n",
       "      <td>NaN</td>\n",
       "      <td>NaN</td>\n",
       "      <td>NaN</td>\n",
       "      <td>NaN</td>\n",
       "      <td>NaN</td>\n",
       "      <td>NaN</td>\n",
       "    </tr>\n",
       "    <tr>\n",
       "      <th>2</th>\n",
       "      <td>2</td>\n",
       "      <td>15602</td>\n",
       "      <td>Walter Matthau</td>\n",
       "      <td>6837.0</td>\n",
       "      <td>Jack Lemmon</td>\n",
       "      <td>3151.0</td>\n",
       "      <td>Ann-Margret</td>\n",
       "      <td>13567.0</td>\n",
       "      <td>Sophia Loren</td>\n",
       "      <td>16757.0</td>\n",
       "      <td>...</td>\n",
       "      <td>NaN</td>\n",
       "      <td>NaN</td>\n",
       "      <td>NaN</td>\n",
       "      <td>NaN</td>\n",
       "      <td>NaN</td>\n",
       "      <td>NaN</td>\n",
       "      <td>NaN</td>\n",
       "      <td>NaN</td>\n",
       "      <td>NaN</td>\n",
       "      <td>NaN</td>\n",
       "    </tr>\n",
       "    <tr>\n",
       "      <th>3</th>\n",
       "      <td>3</td>\n",
       "      <td>31357</td>\n",
       "      <td>Whitney Houston</td>\n",
       "      <td>8851.0</td>\n",
       "      <td>Angela Bassett</td>\n",
       "      <td>9780.0</td>\n",
       "      <td>Loretta Devine</td>\n",
       "      <td>18284.0</td>\n",
       "      <td>Lela Rochon</td>\n",
       "      <td>51359.0</td>\n",
       "      <td>...</td>\n",
       "      <td>NaN</td>\n",
       "      <td>NaN</td>\n",
       "      <td>NaN</td>\n",
       "      <td>NaN</td>\n",
       "      <td>NaN</td>\n",
       "      <td>NaN</td>\n",
       "      <td>NaN</td>\n",
       "      <td>NaN</td>\n",
       "      <td>NaN</td>\n",
       "      <td>NaN</td>\n",
       "    </tr>\n",
       "    <tr>\n",
       "      <th>4</th>\n",
       "      <td>4</td>\n",
       "      <td>11862</td>\n",
       "      <td>Steve Martin</td>\n",
       "      <td>67773.0</td>\n",
       "      <td>Diane Keaton</td>\n",
       "      <td>3092.0</td>\n",
       "      <td>Martin Short</td>\n",
       "      <td>519.0</td>\n",
       "      <td>Kimberly Williams-Paisley</td>\n",
       "      <td>70696.0</td>\n",
       "      <td>...</td>\n",
       "      <td>NaN</td>\n",
       "      <td>NaN</td>\n",
       "      <td>NaN</td>\n",
       "      <td>NaN</td>\n",
       "      <td>NaN</td>\n",
       "      <td>NaN</td>\n",
       "      <td>NaN</td>\n",
       "      <td>NaN</td>\n",
       "      <td>NaN</td>\n",
       "      <td>NaN</td>\n",
       "    </tr>\n",
       "    <tr>\n",
       "      <th>...</th>\n",
       "      <td>...</td>\n",
       "      <td>...</td>\n",
       "      <td>...</td>\n",
       "      <td>...</td>\n",
       "      <td>...</td>\n",
       "      <td>...</td>\n",
       "      <td>...</td>\n",
       "      <td>...</td>\n",
       "      <td>...</td>\n",
       "      <td>...</td>\n",
       "      <td>...</td>\n",
       "      <td>...</td>\n",
       "      <td>...</td>\n",
       "      <td>...</td>\n",
       "      <td>...</td>\n",
       "      <td>...</td>\n",
       "      <td>...</td>\n",
       "      <td>...</td>\n",
       "      <td>...</td>\n",
       "      <td>...</td>\n",
       "      <td>...</td>\n",
       "    </tr>\n",
       "    <tr>\n",
       "      <th>45471</th>\n",
       "      <td>45471</td>\n",
       "      <td>439050</td>\n",
       "      <td>Leila Hatami</td>\n",
       "      <td>240240.0</td>\n",
       "      <td>Kourosh Tahami</td>\n",
       "      <td>1749839.0</td>\n",
       "      <td>Elham Korda</td>\n",
       "      <td>1619957.0</td>\n",
       "      <td>NaN</td>\n",
       "      <td>NaN</td>\n",
       "      <td>...</td>\n",
       "      <td>NaN</td>\n",
       "      <td>NaN</td>\n",
       "      <td>NaN</td>\n",
       "      <td>NaN</td>\n",
       "      <td>NaN</td>\n",
       "      <td>NaN</td>\n",
       "      <td>NaN</td>\n",
       "      <td>NaN</td>\n",
       "      <td>NaN</td>\n",
       "      <td>NaN</td>\n",
       "    </tr>\n",
       "    <tr>\n",
       "      <th>45472</th>\n",
       "      <td>45472</td>\n",
       "      <td>111109</td>\n",
       "      <td>Angel Aquino</td>\n",
       "      <td>1043186.0</td>\n",
       "      <td>Perry Dizon</td>\n",
       "      <td>111636.0</td>\n",
       "      <td>Hazel Orencio</td>\n",
       "      <td>1204271.0</td>\n",
       "      <td>Joel Torre</td>\n",
       "      <td>278923.0</td>\n",
       "      <td>...</td>\n",
       "      <td>NaN</td>\n",
       "      <td>NaN</td>\n",
       "      <td>NaN</td>\n",
       "      <td>NaN</td>\n",
       "      <td>NaN</td>\n",
       "      <td>NaN</td>\n",
       "      <td>NaN</td>\n",
       "      <td>NaN</td>\n",
       "      <td>NaN</td>\n",
       "      <td>NaN</td>\n",
       "    </tr>\n",
       "    <tr>\n",
       "      <th>45473</th>\n",
       "      <td>45473</td>\n",
       "      <td>67758</td>\n",
       "      <td>Erika Eleniak</td>\n",
       "      <td>23764.0</td>\n",
       "      <td>Adam Baldwin</td>\n",
       "      <td>2059.0</td>\n",
       "      <td>Julie du Page</td>\n",
       "      <td>46277.0</td>\n",
       "      <td>James Remar</td>\n",
       "      <td>1736.0</td>\n",
       "      <td>...</td>\n",
       "      <td>NaN</td>\n",
       "      <td>NaN</td>\n",
       "      <td>NaN</td>\n",
       "      <td>NaN</td>\n",
       "      <td>NaN</td>\n",
       "      <td>NaN</td>\n",
       "      <td>NaN</td>\n",
       "      <td>NaN</td>\n",
       "      <td>NaN</td>\n",
       "      <td>NaN</td>\n",
       "    </tr>\n",
       "    <tr>\n",
       "      <th>45474</th>\n",
       "      <td>45474</td>\n",
       "      <td>227506</td>\n",
       "      <td>Iwan Mosschuchin</td>\n",
       "      <td>544742.0</td>\n",
       "      <td>Nathalie Lissenko</td>\n",
       "      <td>1090923.0</td>\n",
       "      <td>Pavel Pavlov</td>\n",
       "      <td>1136422.0</td>\n",
       "      <td>Aleksandr Chabrov</td>\n",
       "      <td>1261758.0</td>\n",
       "      <td>...</td>\n",
       "      <td>NaN</td>\n",
       "      <td>NaN</td>\n",
       "      <td>NaN</td>\n",
       "      <td>NaN</td>\n",
       "      <td>NaN</td>\n",
       "      <td>NaN</td>\n",
       "      <td>NaN</td>\n",
       "      <td>NaN</td>\n",
       "      <td>NaN</td>\n",
       "      <td>NaN</td>\n",
       "    </tr>\n",
       "    <tr>\n",
       "      <th>45475</th>\n",
       "      <td>45475</td>\n",
       "      <td>461257</td>\n",
       "      <td>NaN</td>\n",
       "      <td>NaN</td>\n",
       "      <td>NaN</td>\n",
       "      <td>NaN</td>\n",
       "      <td>NaN</td>\n",
       "      <td>NaN</td>\n",
       "      <td>NaN</td>\n",
       "      <td>NaN</td>\n",
       "      <td>...</td>\n",
       "      <td>NaN</td>\n",
       "      <td>NaN</td>\n",
       "      <td>NaN</td>\n",
       "      <td>NaN</td>\n",
       "      <td>NaN</td>\n",
       "      <td>NaN</td>\n",
       "      <td>NaN</td>\n",
       "      <td>NaN</td>\n",
       "      <td>NaN</td>\n",
       "      <td>NaN</td>\n",
       "    </tr>\n",
       "  </tbody>\n",
       "</table>\n",
       "<p>45476 rows × 628 columns</p>\n",
       "</div>"
      ],
      "text/plain": [
       "       Unnamed: 0  Id_Pelicula           Actor 1  Actor 1 Id  \\\n",
       "0               0          862         Tom Hanks        31.0   \n",
       "1               1         8844    Robin Williams      2157.0   \n",
       "2               2        15602    Walter Matthau      6837.0   \n",
       "3               3        31357   Whitney Houston      8851.0   \n",
       "4               4        11862      Steve Martin     67773.0   \n",
       "...           ...          ...               ...         ...   \n",
       "45471       45471       439050      Leila Hatami    240240.0   \n",
       "45472       45472       111109      Angel Aquino   1043186.0   \n",
       "45473       45473        67758     Erika Eleniak     23764.0   \n",
       "45474       45474       227506  Iwan Mosschuchin    544742.0   \n",
       "45475       45475       461257               NaN         NaN   \n",
       "\n",
       "                 Actor 2  Actor 2 Id         Actor 3  Actor 3 Id  \\\n",
       "0              Tim Allen     12898.0     Don Rickles      7167.0   \n",
       "1          Jonathan Hyde      8537.0   Kirsten Dunst       205.0   \n",
       "2            Jack Lemmon      3151.0     Ann-Margret     13567.0   \n",
       "3         Angela Bassett      9780.0  Loretta Devine     18284.0   \n",
       "4           Diane Keaton      3092.0    Martin Short       519.0   \n",
       "...                  ...         ...             ...         ...   \n",
       "45471     Kourosh Tahami   1749839.0     Elham Korda   1619957.0   \n",
       "45472        Perry Dizon    111636.0   Hazel Orencio   1204271.0   \n",
       "45473       Adam Baldwin      2059.0   Julie du Page     46277.0   \n",
       "45474  Nathalie Lissenko   1090923.0    Pavel Pavlov   1136422.0   \n",
       "45475                NaN         NaN             NaN         NaN   \n",
       "\n",
       "                         Actor 4  Actor 4 Id  ... Actor 309  Actor 309 Id  \\\n",
       "0                     Jim Varney     12899.0  ...       NaN           NaN   \n",
       "1                 Bradley Pierce    145151.0  ...       NaN           NaN   \n",
       "2                   Sophia Loren     16757.0  ...       NaN           NaN   \n",
       "3                    Lela Rochon     51359.0  ...       NaN           NaN   \n",
       "4      Kimberly Williams-Paisley     70696.0  ...       NaN           NaN   \n",
       "...                          ...         ...  ...       ...           ...   \n",
       "45471                        NaN         NaN  ...       NaN           NaN   \n",
       "45472                 Joel Torre    278923.0  ...       NaN           NaN   \n",
       "45473                James Remar      1736.0  ...       NaN           NaN   \n",
       "45474          Aleksandr Chabrov   1261758.0  ...       NaN           NaN   \n",
       "45475                        NaN         NaN  ...       NaN           NaN   \n",
       "\n",
       "      Actor 310  Actor 310 Id Actor 311  Actor 311 Id Actor 312  Actor 312 Id  \\\n",
       "0           NaN           NaN       NaN           NaN       NaN           NaN   \n",
       "1           NaN           NaN       NaN           NaN       NaN           NaN   \n",
       "2           NaN           NaN       NaN           NaN       NaN           NaN   \n",
       "3           NaN           NaN       NaN           NaN       NaN           NaN   \n",
       "4           NaN           NaN       NaN           NaN       NaN           NaN   \n",
       "...         ...           ...       ...           ...       ...           ...   \n",
       "45471       NaN           NaN       NaN           NaN       NaN           NaN   \n",
       "45472       NaN           NaN       NaN           NaN       NaN           NaN   \n",
       "45473       NaN           NaN       NaN           NaN       NaN           NaN   \n",
       "45474       NaN           NaN       NaN           NaN       NaN           NaN   \n",
       "45475       NaN           NaN       NaN           NaN       NaN           NaN   \n",
       "\n",
       "      Actor 313  Actor 313 Id  \n",
       "0           NaN           NaN  \n",
       "1           NaN           NaN  \n",
       "2           NaN           NaN  \n",
       "3           NaN           NaN  \n",
       "4           NaN           NaN  \n",
       "...         ...           ...  \n",
       "45471       NaN           NaN  \n",
       "45472       NaN           NaN  \n",
       "45473       NaN           NaN  \n",
       "45474       NaN           NaN  \n",
       "45475       NaN           NaN  \n",
       "\n",
       "[45476 rows x 628 columns]"
      ]
     },
     "execution_count": 18,
     "metadata": {},
     "output_type": "execute_result"
    }
   ],
   "source": [
    "df_act=pd.read_csv(r'C:\\Users\\Fernando\\Desktop\\Proyecto 1\\Proyecto-Individual-1-ML\\data procesada para funciones\\actores_procesado')\n",
    "df_act"
   ]
  },
  {
   "cell_type": "code",
   "execution_count": 19,
   "metadata": {},
   "outputs": [
    {
     "name": "stdout",
     "output_type": "stream",
     "text": [
      "<class 'pandas.core.frame.DataFrame'>\n",
      "RangeIndex: 45476 entries, 0 to 45475\n",
      "Data columns (total 6 columns):\n",
      " #   Column       Non-Null Count  Dtype \n",
      "---  ------       --------------  ----- \n",
      " 0   Id_Pelicula  45476 non-null  int64 \n",
      " 1   Actor 1      43058 non-null  object\n",
      " 2   Actor 2      41726 non-null  object\n",
      " 3   Actor 3      40816 non-null  object\n",
      " 4   Actor 4      39683 non-null  object\n",
      " 5   Actor 5      37207 non-null  object\n",
      "dtypes: int64(1), object(5)\n",
      "memory usage: 2.1+ MB\n"
     ]
    }
   ],
   "source": [
    "df_act=df_act[['Id_Pelicula','Actor 1','Actor 2','Actor 3','Actor 4','Actor 5']] #agarramos a los 5 primeros ya que son los mas importantes\n",
    "df_act.info()"
   ]
  },
  {
   "cell_type": "code",
   "execution_count": 20,
   "metadata": {},
   "outputs": [
    {
     "name": "stderr",
     "output_type": "stream",
     "text": [
      "C:\\Users\\Fernando\\AppData\\Local\\Temp\\ipykernel_18076\\1962542561.py:1: SettingWithCopyWarning: \n",
      "A value is trying to be set on a copy of a slice from a DataFrame.\n",
      "Try using .loc[row_indexer,col_indexer] = value instead\n",
      "\n",
      "See the caveats in the documentation: https://pandas.pydata.org/pandas-docs/stable/user_guide/indexing.html#returning-a-view-versus-a-copy\n",
      "  df_act['Id_Pelicula']=df_act['Id_Pelicula'].astype(object) #convertimos a objeto para poder hacer el merge\n"
     ]
    }
   ],
   "source": [
    "df_act['Id_Pelicula']=df_act['Id_Pelicula'].astype(object) #convertimos a objeto para poder hacer el merge"
   ]
  },
  {
   "cell_type": "code",
   "execution_count": 21,
   "metadata": {},
   "outputs": [
    {
     "name": "stdout",
     "output_type": "stream",
     "text": [
      "<class 'pandas.core.frame.DataFrame'>\n",
      "RangeIndex: 45540 entries, 0 to 45539\n",
      "Data columns (total 13 columns):\n",
      " #   Column             Non-Null Count  Dtype \n",
      "---  ------             --------------  ----- \n",
      " 0   Id_Pelicula        45540 non-null  object\n",
      " 1   title              45540 non-null  object\n",
      " 2   coleccion          45540 non-null  object\n",
      " 3   overview           45540 non-null  object\n",
      " 4   genero_1           45540 non-null  object\n",
      " 5   genero_2           45540 non-null  object\n",
      " 6   genero_3           45540 non-null  object\n",
      " 7   combined_features  45540 non-null  object\n",
      " 8   Actor 1            45540 non-null  object\n",
      " 9   Actor 2            45540 non-null  object\n",
      " 10  Actor 3            45540 non-null  object\n",
      " 11  Actor 4            45540 non-null  object\n",
      " 12  Actor 5            45540 non-null  object\n",
      "dtypes: object(13)\n",
      "memory usage: 4.5+ MB\n"
     ]
    }
   ],
   "source": [
    "df_final = pd.merge(df, df_act, on='Id_Pelicula', how='left') #juntamos los dataframes de peliculas con el de actores\n",
    "df_final.fillna('',inplace=True)\n",
    "df_final.info()"
   ]
  },
  {
   "cell_type": "code",
   "execution_count": 22,
   "metadata": {},
   "outputs": [
    {
     "data": {
      "text/plain": [
       "0        Toy StoryToy Story CollectionAnimationTom Hank...\n",
       "1        JumanjiAdventureRobin WilliamsJonathan HydeKir...\n",
       "2        Grumpier Old MenGrumpy Old Men CollectionRoman...\n",
       "3        Waiting to ExhaleComedyWhitney HoustonAngela B...\n",
       "4        Father of the Bride Part IIFather of the Bride...\n",
       "                               ...                        \n",
       "45535                                               Family\n",
       "45536                                            Animation\n",
       "45537                                          Documentary\n",
       "45538                                            Adventure\n",
       "45539                                              Mystery\n",
       "Name: combined_features, Length: 45540, dtype: object"
      ]
     },
     "execution_count": 22,
     "metadata": {},
     "output_type": "execute_result"
    }
   ],
   "source": [
    "df_final['combined_features']=df_final['title']+''+df_final['coleccion']+''+df_final['genero_1']+''+df_final['Actor 1']+''+df_final['Actor 2']+''+df_final['Actor 3']\n",
    "df_final['combined_features']"
   ]
  },
  {
   "cell_type": "code",
   "execution_count": 23,
   "metadata": {},
   "outputs": [],
   "source": [
    "from sklearn.feature_extraction.text import TfidfVectorizer\n",
    "tfidf = TfidfVectorizer(stop_words='english')\n",
    "tfidf_matrix_2 = tfidf.fit_transform(df_final['combined_features'])\n"
   ]
  },
  {
   "cell_type": "code",
   "execution_count": 24,
   "metadata": {},
   "outputs": [],
   "source": [
    "from sklearn.metrics.pairwise import cosine_similarity\n",
    "cosine_sim = cosine_similarity(tfidf_matrix_2, tfidf_matrix_2)"
   ]
  },
  {
   "cell_type": "code",
   "execution_count": 42,
   "metadata": {},
   "outputs": [],
   "source": [
    "indices = pd.Series(df.index, index=df['title']).drop_duplicates()\n",
    "\n",
    "def get_recomendacion(title, cosine_sim=cosine_sim):\n",
    "    idx = indices[title]\n",
    "\n",
    "    sim_scores = list(enumerate(cosine_sim[idx]))\n",
    "\n",
    "    sim_scores = sorted(sim_scores, key=lambda x: x[1], reverse=True)\n",
    "\n",
    "    sim_scores = sim_scores[1:6]\n",
    "\n",
    "    movie_indices = [i[0] for i in sim_scores]\n",
    "\n",
    "    return df['title'].iloc[movie_indices]\n"
   ]
  },
  {
   "cell_type": "code",
   "execution_count": 26,
   "metadata": {},
   "outputs": [
    {
     "name": "stdout",
     "output_type": "stream",
     "text": [
      "1155                        Brazil\n",
      "1168                    GoodFellas\n",
      "35856       Vendetta for the Saint\n",
      "16602                   Torch Song\n",
      "30466                  Underground\n",
      "26587           The McKenzie Break\n",
      "41493                       Fences\n",
      "2516      The Saragossa Manuscript\n",
      "12900              American Zombie\n",
      "15476    The Sorcerer's Apprentice\n",
      "Name: title, dtype: object\n"
     ]
    }
   ],
   "source": [
    "print(get_recomendacion('Star Wars')) #da peores resultados que solo usando el data mas sencillo de los intentos pasados ya que toma a actores en peliculas poco similares \n"
   ]
  },
  {
   "cell_type": "code",
   "execution_count": 27,
   "metadata": {},
   "outputs": [
    {
     "name": "stdout",
     "output_type": "stream",
     "text": [
      "<class 'pandas.core.frame.DataFrame'>\n",
      "RangeIndex: 45464 entries, 0 to 45463\n",
      "Data columns (total 8 columns):\n",
      " #   Column             Non-Null Count  Dtype \n",
      "---  ------             --------------  ----- \n",
      " 0   Id_Pelicula        45464 non-null  object\n",
      " 1   title              45464 non-null  object\n",
      " 2   coleccion          45464 non-null  object\n",
      " 3   overview           45464 non-null  object\n",
      " 4   genero_1           45464 non-null  object\n",
      " 5   genero_2           45464 non-null  object\n",
      " 6   genero_3           45464 non-null  object\n",
      " 7   combined_features  45464 non-null  object\n",
      "dtypes: object(8)\n",
      "memory usage: 2.8+ MB\n"
     ]
    }
   ],
   "source": [
    "df.info()"
   ]
  }
 ],
 "metadata": {
  "kernelspec": {
   "display_name": "Python 3",
   "language": "python",
   "name": "python3"
  },
  "language_info": {
   "codemirror_mode": {
    "name": "ipython",
    "version": 3
   },
   "file_extension": ".py",
   "mimetype": "text/x-python",
   "name": "python",
   "nbconvert_exporter": "python",
   "pygments_lexer": "ipython3",
   "version": "3.12.4"
  }
 },
 "nbformat": 4,
 "nbformat_minor": 2
}
