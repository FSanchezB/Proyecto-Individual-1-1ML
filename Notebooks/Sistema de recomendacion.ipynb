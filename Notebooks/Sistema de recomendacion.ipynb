{
 "cells": [
  {
   "cell_type": "markdown",
   "metadata": {},
   "source": [
    "Sistema mas eficiente"
   ]
  },
  {
   "cell_type": "code",
   "execution_count": 1,
   "metadata": {},
   "outputs": [],
   "source": [
    "import pandas as pd\n",
    "import numpy as np"
   ]
  },
  {
   "cell_type": "code",
   "execution_count": 3,
   "metadata": {},
   "outputs": [
    {
     "name": "stdout",
     "output_type": "stream",
     "text": [
      "<class 'pandas.core.frame.DataFrame'>\n",
      "RangeIndex: 25000 entries, 0 to 24999\n",
      "Data columns (total 5 columns):\n",
      " #   Column       Non-Null Count  Dtype \n",
      "---  ------       --------------  ----- \n",
      " 0   Id_Pelicula  25000 non-null  object\n",
      " 1   title        25000 non-null  object\n",
      " 2   coleccion    25000 non-null  object\n",
      " 3   overview     25000 non-null  object\n",
      " 4   genero_1     25000 non-null  object\n",
      "dtypes: object(5)\n",
      "memory usage: 976.7+ KB\n"
     ]
    }
   ],
   "source": [
    "df=pd.read_csv(r'D:\\OneDrive\\Escritorio\\Proyecto 1\\Proyecto-Individual-1-ML\\data procesada para funciones\\data_ml')\n",
    "df=df[['Id_Pelicula','title', 'coleccion', 'overview', 'genero_1']]\n",
    "df=df.fillna('')\n",
    "df=df.iloc[:25000,:]\n",
    "df.info()\n"
   ]
  },
  {
   "cell_type": "code",
   "execution_count": 4,
   "metadata": {},
   "outputs": [
    {
     "data": {
      "text/plain": [
       "0        Led by Woody, Andy's toys live happily in his ...\n",
       "1        When siblings Judy and Peter discover an encha...\n",
       "2        A family wedding reignites the ancient feud be...\n",
       "3        Cheated on, mistreated and stepped on, the wom...\n",
       "4        Just when George Banks has recovered from his ...\n",
       "                               ...                        \n",
       "24995    Izzy is raising her younger brother, Kevin, by...\n",
       "24996    During the holiday season, when the animals of...\n",
       "24997    A tough detective who is part of an elite New ...\n",
       "24998    V/H/S: VIRAL's segments include the story of a...\n",
       "24999    'Running from Crazy' is a documentary examinin...\n",
       "Name: combined_features, Length: 25000, dtype: object"
      ]
     },
     "execution_count": 4,
     "metadata": {},
     "output_type": "execute_result"
    }
   ],
   "source": [
    "df['combined_features'] = df['overview'] + ' ' + df['genero_1'] + ' ' + df['coleccion']\n",
    "df['combined_features']"
   ]
  },
  {
   "cell_type": "code",
   "execution_count": 5,
   "metadata": {},
   "outputs": [],
   "source": [
    "from sklearn.feature_extraction.text import TfidfVectorizer\n",
    "tfidf = TfidfVectorizer(stop_words='english')\n",
    "matriz_tfidf_1 = tfidf.fit_transform(df['combined_features'])"
   ]
  },
  {
   "cell_type": "code",
   "execution_count": 6,
   "metadata": {},
   "outputs": [],
   "source": [
    "from sklearn.metrics.pairwise import cosine_similarity\n",
    "cosine_sim = cosine_similarity(matriz_tfidf_1, matriz_tfidf_1)"
   ]
  },
  {
   "cell_type": "code",
   "execution_count": 8,
   "metadata": {},
   "outputs": [],
   "source": [
    "indices = pd.Series(df.index, index=df['title']).drop_duplicates()\n",
    "\n",
    "def get_recomendacion(title, cosine_sim=cosine_sim):\n",
    "    if title not in indices:\n",
    "        return \"El titulo ingresado no se encuentra en el dataset, por favor vuelva a intentar\"\n",
    "    idx = indices[title]\n",
    "\n",
    "    sim_scores = list(enumerate(cosine_sim[idx]))\n",
    "\n",
    "    sim_scores = sorted(sim_scores, key=lambda x: x[1], reverse=True)\n",
    "\n",
    "    sim_scores = sim_scores[1:6]\n",
    "\n",
    "    movie_indices = [i[0] for i in sim_scores]\n",
    "\n",
    "    return df['title'].iloc[movie_indices]"
   ]
  },
  {
   "cell_type": "code",
   "execution_count": 10,
   "metadata": {},
   "outputs": [
    {
     "name": "stdout",
     "output_type": "stream",
     "text": [
      "1152                               The Empire Strikes Back\n",
      "1165                                    Return of the Jedi\n",
      "15446    Empire of Dreams: The Story of the Star Wars T...\n",
      "1265                                          Mad Dog Time\n",
      "309                                      The Swan Princess\n",
      "Name: title, dtype: object\n"
     ]
    }
   ],
   "source": [
    "print(get_recomendacion('Star Wars'))"
   ]
  },
  {
   "cell_type": "code",
   "execution_count": 11,
   "metadata": {},
   "outputs": [
    {
     "data": {
      "text/html": [
       "<div>\n",
       "<style scoped>\n",
       "    .dataframe tbody tr th:only-of-type {\n",
       "        vertical-align: middle;\n",
       "    }\n",
       "\n",
       "    .dataframe tbody tr th {\n",
       "        vertical-align: top;\n",
       "    }\n",
       "\n",
       "    .dataframe thead th {\n",
       "        text-align: right;\n",
       "    }\n",
       "</style>\n",
       "<table border=\"1\" class=\"dataframe\">\n",
       "  <thead>\n",
       "    <tr style=\"text-align: right;\">\n",
       "      <th></th>\n",
       "      <th>Id_Pelicula</th>\n",
       "      <th>title</th>\n",
       "      <th>combined_features</th>\n",
       "    </tr>\n",
       "  </thead>\n",
       "  <tbody>\n",
       "    <tr>\n",
       "      <th>0</th>\n",
       "      <td>862.0</td>\n",
       "      <td>Toy Story</td>\n",
       "      <td>Led by Woody, Andy's toys live happily in his ...</td>\n",
       "    </tr>\n",
       "    <tr>\n",
       "      <th>1</th>\n",
       "      <td>8844.0</td>\n",
       "      <td>Jumanji</td>\n",
       "      <td>When siblings Judy and Peter discover an encha...</td>\n",
       "    </tr>\n",
       "    <tr>\n",
       "      <th>2</th>\n",
       "      <td>15602.0</td>\n",
       "      <td>Grumpier Old Men</td>\n",
       "      <td>A family wedding reignites the ancient feud be...</td>\n",
       "    </tr>\n",
       "    <tr>\n",
       "      <th>3</th>\n",
       "      <td>31357.0</td>\n",
       "      <td>Waiting to Exhale</td>\n",
       "      <td>Cheated on, mistreated and stepped on, the wom...</td>\n",
       "    </tr>\n",
       "    <tr>\n",
       "      <th>4</th>\n",
       "      <td>11862.0</td>\n",
       "      <td>Father of the Bride Part II</td>\n",
       "      <td>Just when George Banks has recovered from his ...</td>\n",
       "    </tr>\n",
       "    <tr>\n",
       "      <th>...</th>\n",
       "      <td>...</td>\n",
       "      <td>...</td>\n",
       "      <td>...</td>\n",
       "    </tr>\n",
       "    <tr>\n",
       "      <th>24995</th>\n",
       "      <td>23515.0</td>\n",
       "      <td>Sick Girl</td>\n",
       "      <td>Izzy is raising her younger brother, Kevin, by...</td>\n",
       "    </tr>\n",
       "    <tr>\n",
       "      <th>24996</th>\n",
       "      <td>10258.0</td>\n",
       "      <td>The Madagascar Penguins in a Christmas Caper</td>\n",
       "      <td>During the holiday season, when the animals of...</td>\n",
       "    </tr>\n",
       "    <tr>\n",
       "      <th>24997</th>\n",
       "      <td>32080.0</td>\n",
       "      <td>The Seven-Ups</td>\n",
       "      <td>A tough detective who is part of an elite New ...</td>\n",
       "    </tr>\n",
       "    <tr>\n",
       "      <th>24998</th>\n",
       "      <td>267806.0</td>\n",
       "      <td>V/H/S: Viral</td>\n",
       "      <td>V/H/S: VIRAL's segments include the story of a...</td>\n",
       "    </tr>\n",
       "    <tr>\n",
       "      <th>24999</th>\n",
       "      <td>159153.0</td>\n",
       "      <td>Running from Crazy</td>\n",
       "      <td>'Running from Crazy' is a documentary examinin...</td>\n",
       "    </tr>\n",
       "  </tbody>\n",
       "</table>\n",
       "<p>25000 rows × 3 columns</p>\n",
       "</div>"
      ],
      "text/plain": [
       "      Id_Pelicula                                         title  \\\n",
       "0           862.0                                     Toy Story   \n",
       "1          8844.0                                       Jumanji   \n",
       "2         15602.0                              Grumpier Old Men   \n",
       "3         31357.0                             Waiting to Exhale   \n",
       "4         11862.0                   Father of the Bride Part II   \n",
       "...           ...                                           ...   \n",
       "24995     23515.0                                     Sick Girl   \n",
       "24996     10258.0  The Madagascar Penguins in a Christmas Caper   \n",
       "24997     32080.0                                 The Seven-Ups   \n",
       "24998    267806.0                                  V/H/S: Viral   \n",
       "24999    159153.0                            Running from Crazy   \n",
       "\n",
       "                                       combined_features  \n",
       "0      Led by Woody, Andy's toys live happily in his ...  \n",
       "1      When siblings Judy and Peter discover an encha...  \n",
       "2      A family wedding reignites the ancient feud be...  \n",
       "3      Cheated on, mistreated and stepped on, the wom...  \n",
       "4      Just when George Banks has recovered from his ...  \n",
       "...                                                  ...  \n",
       "24995  Izzy is raising her younger brother, Kevin, by...  \n",
       "24996  During the holiday season, when the animals of...  \n",
       "24997  A tough detective who is part of an elite New ...  \n",
       "24998  V/H/S: VIRAL's segments include the story of a...  \n",
       "24999  'Running from Crazy' is a documentary examinin...  \n",
       "\n",
       "[25000 rows x 3 columns]"
      ]
     },
     "execution_count": 11,
     "metadata": {},
     "output_type": "execute_result"
    }
   ],
   "source": [
    "df.drop(['coleccion','overview','genero_1'],axis=1,inplace=True)\n",
    "df"
   ]
  },
  {
   "cell_type": "code",
   "execution_count": 12,
   "metadata": {},
   "outputs": [],
   "source": [
    "#np.save('cosine_sim.npy', cosine_sim)\n",
    "#df.to_csv('data_funcion_recomendacion')"
   ]
  }
 ],
 "metadata": {
  "kernelspec": {
   "display_name": "Python 3.10.2 64-bit",
   "language": "python",
   "name": "python3"
  },
  "language_info": {
   "codemirror_mode": {
    "name": "ipython",
    "version": 3
   },
   "file_extension": ".py",
   "mimetype": "text/x-python",
   "name": "python",
   "nbconvert_exporter": "python",
   "pygments_lexer": "ipython3",
   "version": "3.10.2"
  },
  "vscode": {
   "interpreter": {
    "hash": "bf48767f426d8c9aafd83c79b813b210837dd0a10133aae4a4155864f81c2981"
   }
  }
 },
 "nbformat": 4,
 "nbformat_minor": 2
}
