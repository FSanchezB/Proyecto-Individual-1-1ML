{
 "cells": [
  {
   "cell_type": "code",
   "execution_count": 1,
   "metadata": {},
   "outputs": [
    {
     "name": "stderr",
     "output_type": "stream",
     "text": [
      "C:\\Users\\Fernando\\AppData\\Local\\Temp\\ipykernel_5748\\2809647511.py:3: DtypeWarning: Columns (26,28,30,32,34,36,38,40,42,44,46,48,50,52,54,56,58,60,62,64,66,68,70,72,74,76,78,80,82,84) have mixed types. Specify dtype option on import or set low_memory=False.\n",
      "  df_directores=pd.read_csv(r'C:\\Users\\Fernando\\Desktop\\Proyecto 1\\Proyecto-Individual-1-ML\\data procesada para funciones\\directores_procesado')\n",
      "C:\\Users\\Fernando\\AppData\\Local\\Temp\\ipykernel_5748\\2809647511.py:4: DtypeWarning: Columns (116,118,120,122,124,126,128,130,132,134,136,138,140,142,144,146,148,150,152,154,156,158,160,162,164,166,168,170,172,174,176,178,180,182,184,186,188,190,192,194,196,198,200,202,204,206,208,210,212,214,216,218,220,222,224,226,228,230,232,234,236,238,240,242,244,246,248,250,252,254,256,258,260,262,264,266,268,270,272,274,276,278,280,282,284,286,288,290,292,294,296,298,300,302,304,306,308,310,312,314,316,318,320,322,324,326,328,330,332,334,336,338,340,342,344,346,348,350,352,354,356,358,360,362,364,366,368,370,372,374,376,378,380,382,384,386,388,390,392,394,396,398,400,402,404,406,408,410,412,414,416,418,420,422,424,426,428,430,432,434,436,438,440,442,444,446,448,450,452,454,456,458,460,462,464,466,468,470,472,474,476,478,480,482,484,486,488,490,492,494,496,498,500,502,504,506,508,510,512,514,516,518,520,522,524,526,528,530,532,534,536,538,540,542,544,546,548,550,552,554,556,558,560,562,564,566,568,570,572,574,576,578,580,582,584,586,588,590,592,594,596,598,600,602,604,606,608,610,612,614,616,618,620,622,624,626) have mixed types. Specify dtype option on import or set low_memory=False.\n",
      "  df_actores=pd.read_csv(r'C:\\Users\\Fernando\\Desktop\\Proyecto 1\\Proyecto-Individual-1-ML\\data procesada para funciones\\actores_procesado')\n"
     ]
    }
   ],
   "source": [
    "import pandas as pd\n",
    "df=pd.read_csv(r'C:\\Users\\Fernando\\Desktop\\Proyecto 1\\Proyecto-Individual-1-ML\\data procesada para funciones\\movies_procesado')\n",
    "df_directores=pd.read_csv(r'C:\\Users\\Fernando\\Desktop\\Proyecto 1\\Proyecto-Individual-1-ML\\data procesada para funciones\\directores_procesado')\n",
    "df_actores=pd.read_csv(r'C:\\Users\\Fernando\\Desktop\\Proyecto 1\\Proyecto-Individual-1-ML\\data procesada para funciones\\actores_procesado')"
   ]
  },
  {
   "cell_type": "code",
   "execution_count": 2,
   "metadata": {},
   "outputs": [],
   "source": [
    "df.drop('Unnamed: 0',axis=1,inplace=True)"
   ]
  },
  {
   "cell_type": "markdown",
   "metadata": {},
   "source": [
    "def cantidad_filmaciones_mes( Mes ): Se ingresa un mes en idioma Español. Debe devolver la cantidad de películas que fueron estrenadas en el mes consultado en la totalidad del dataset."
   ]
  },
  {
   "cell_type": "code",
   "execution_count": 3,
   "metadata": {},
   "outputs": [],
   "source": [
    "def cantidad_filmaciones_mes(mes): #definimos\n",
    "    meses={'enero':1,'febrero':2,'marzo':3,'abril':4,'mayo':5,'junio':6,'julio':7,'agosto':8,'septiembre':9,'octube':10,'noviembre':11,'diciembre':12} #diccionario de valores para convertir mes a numero\n",
    "    mes=mes.lower() #estandarizar el input\n",
    "    df['release_date']=pd.to_datetime(df['release_date'], format='%Y-%m-%d') #convertimos la fila a datetime\n",
    "    print(f'{df.loc[df['release_date'].dt.month==meses[mes]].shape[0]} peliculas fueron estrenadas en el mes de {mes.title()}') #imprimimos el output de la funcion\n",
    "    "
   ]
  },
  {
   "cell_type": "code",
   "execution_count": 4,
   "metadata": {},
   "outputs": [
    {
     "name": "stdout",
     "output_type": "stream",
     "text": [
      "5912 peliculas fueron estrenadas en el mes de Enero\n"
     ]
    }
   ],
   "source": [
    "cantidad_filmaciones_mes('eNeRO')"
   ]
  },
  {
   "cell_type": "markdown",
   "metadata": {},
   "source": [
    "def cantidad_filmaciones_dia( Dia ): Se ingresa un día en idioma Español. Debe devolver la cantidad de películas que fueron estrenadas en día consultado en la totalidad del dataset."
   ]
  },
  {
   "cell_type": "code",
   "execution_count": 5,
   "metadata": {},
   "outputs": [],
   "source": [
    "def cantidad_filmaciones_dia(dia):\n",
    "    dias={'lunes':'Monday','martes':'Tuesday','miercoles':'Wednesday','jueves':'Thursday','viernes':'Friday','sabado':'Saturday','domingo':'Sunday'} #diccionario con el nombre en espanol y su equivalente en ingles del df\n",
    "    dia=dia.lower() #estandarizamos\n",
    "    print(f'{df.loc[df['day_of_week_release']==dias[dia]].shape[0]} fueron estrenadas en día {dia.title()}') #sacamos las filas del dataframe que cumple con esas condiciones"
   ]
  },
  {
   "cell_type": "code",
   "execution_count": 16,
   "metadata": {},
   "outputs": [
    {
     "name": "stdout",
     "output_type": "stream",
     "text": [
      "4641 fueron estrenadas en día Martes\n"
     ]
    }
   ],
   "source": [
    "cantidad_filmaciones_dia('martes')"
   ]
  },
  {
   "cell_type": "markdown",
   "metadata": {},
   "source": [
    "\n",
    "def score_titulo( titulo_de_la_filmación ): Se ingresa el título de una filmación esperando como respuesta el título, el año de estreno y el score.\n",
    "\n",
    "                \n"
   ]
  },
  {
   "cell_type": "code",
   "execution_count": 7,
   "metadata": {},
   "outputs": [],
   "source": [
    "def score_titulo(titulo_de_la_filmacion):\n",
    "    pelicula = df.loc[df['title'] == titulo_de_la_filmacion] #nuevo df con la condicion establecida\n",
    "\n",
    "    if pelicula.empty:\n",
    "        print(f'No se encontró la película con el título \"{titulo_de_la_filmacion}\".') #prevenimos un error si la pelicula no esta en el dataframe\n",
    "    \n",
    "    titulo = pelicula['title'].values[0]\n",
    "    score = pelicula['popularity'].values[0] #sacamos los datos que nos interesan y los guardamos en variables\n",
    "    year = pelicula['release_year'].values[0]\n",
    "\n",
    "    print(f'La pelicula {titulo} fue estrenada en el año {year} con un score de: {score}') #imprimimos en f string con los datos de interes"
   ]
  },
  {
   "cell_type": "code",
   "execution_count": 8,
   "metadata": {},
   "outputs": [
    {
     "name": "stdout",
     "output_type": "stream",
     "text": [
      "La pelicula Star Wars fue estrenada en el año 1977 con un score de: 42.149697\n"
     ]
    }
   ],
   "source": [
    "score_titulo('Star Wars')"
   ]
  },
  {
   "cell_type": "markdown",
   "metadata": {},
   "source": [
    "\n",
    "def votos_titulo( titulo_de_la_filmación ): Se ingresa el título de una filmación esperando como respuesta el título, la cantidad de votos y el valor promedio de las votaciones. La misma variable deberá de contar con al menos 2000 valoraciones, caso contrario, debemos contar con un mensaje avisando que no cumple esta condición y que por ende, no se devuelve ningun valor."
   ]
  },
  {
   "cell_type": "code",
   "execution_count": 9,
   "metadata": {},
   "outputs": [],
   "source": [
    "def votos_titulo( titulo_de_la_filmacion ):\n",
    "    pelicula = df.loc[df['title'] == titulo_de_la_filmacion] #df con las caracteristicas que buscamos \n",
    "\n",
    "    if pelicula.empty:\n",
    "        print(f'No se encontró la película con el título \"{titulo_de_la_filmacion}\".') #prevenimos un error si la pelicula no se encuentra\n",
    "        return None\n",
    "    \n",
    "    titulo = pelicula['title'].values[0]\n",
    "    votos=pelicula['vote_count'].values[0] #guardamos la variables que nos interesan\n",
    "    vavg=pelicula['vote_average'].values[0]\n",
    "    \n",
    "    if votos>2000:\n",
    "        print(f'La pelicula {titulo} cuenta con {votos} valoraciones, con un puntaje promedio de {vavg}') #imprimimos si la pelicula tiene mas de 2000 votos\n",
    "    else:\n",
    "        print('La pelicula cuenta con menos de 2000 votos') # en caso de que no, se le notifica al usuario"
   ]
  },
  {
   "cell_type": "code",
   "execution_count": 10,
   "metadata": {},
   "outputs": [
    {
     "name": "stdout",
     "output_type": "stream",
     "text": [
      "La pelicula Forrest Gump cuenta con 8147.0 valoraciones, con un puntaje promedio de 8.2\n"
     ]
    }
   ],
   "source": [
    "votos_titulo('Forrest Gump')"
   ]
  },
  {
   "cell_type": "markdown",
   "metadata": {},
   "source": [
    "def get_actor( nombre_actor ): Se ingresa el nombre de un actor que se encuentre dentro de un dataset debiendo devolver el éxito del mismo medido a través del retorno. Además, la cantidad de películas que en las que ha participado y el promedio de retorno. La definición no deberá considerar directores."
   ]
  },
  {
   "cell_type": "code",
   "execution_count": 11,
   "metadata": {},
   "outputs": [],
   "source": [
    "def get_actor(nombre_actor):\n",
    "    \n",
    "    columnas_actor = [col for col in df_actores.columns if 'Actor ' in col and 'Id' not in col] #sacamos las columnas del df que contienen actor\n",
    "    \n",
    "    melted_df = df_actores.melt(id_vars=['Id_Pelicula'], #derretimos el df y tomaria el id de la pelicula y una columna con el numero de actor y ulltima columna como el nombre del actor \n",
    "                        value_vars=columnas_actor, \n",
    "                        var_name='actor_column', \n",
    "                        value_name='nombre_actor')\n",
    "    \n",
    "    filtered_df = melted_df[melted_df['nombre_actor'] == nombre_actor] #tomamos solo las columnas que tienen al actor\n",
    "\n",
    "    peliculas_aparicion_count = filtered_df['Id_Pelicula'].shape[0] #numero de peliculas\n",
    "    peliculas_aparicion = pd.DataFrame(filtered_df['Id_Pelicula'].unique(), columns=['Id_Pelicula']) #df con la lista de peliculas\n",
    "\n",
    "    \n",
    "    df_act = pd.merge(df, peliculas_aparicion, on='Id_Pelicula', how='inner') #modificamos el df original para sacar solo las peliculas donde aparece el actor \n",
    "    avg_retorno=df_act['return'].mean() #promedio de retorno\n",
    "    retorno_total=df_act['return'].sum() #suma de retorno\n",
    "\n",
    "    print(f'El actor {nombre_actor} aparece en {peliculas_aparicion_count} peliculas con un retorno total de {retorno_total} y retorno promedio de {avg_retorno}')\n",
    "    "
   ]
  },
  {
   "cell_type": "code",
   "execution_count": 12,
   "metadata": {},
   "outputs": [
    {
     "name": "stdout",
     "output_type": "stream",
     "text": [
      "El actor Hayden Christensen aparece en 19 peliculas con un retorno total de 22.98279476184134 y retorno promedio de 1.209620776939018\n"
     ]
    }
   ],
   "source": [
    "get_actor('Hayden Christensen')"
   ]
  },
  {
   "cell_type": "markdown",
   "metadata": {},
   "source": [
    "def get_director( nombre_director ): Se ingresa el nombre de un director que se encuentre dentro de un dataset debiendo devolver el éxito del mismo medido a través del retorno. Además, deberá devolver el nombre de cada película con la fecha de lanzamiento, retorno individual, costo y ganancia de la misma."
   ]
  },
  {
   "cell_type": "code",
   "execution_count": 13,
   "metadata": {},
   "outputs": [],
   "source": [
    "def get_director(director):\n",
    "    columnas_director = [col for col in df_directores.columns if 'Director ' in col and 'Id' not in col] #sacamos las columnas del df que contienen director \n",
    "    \n",
    "    melted_df = df_directores.melt(id_vars=['Id_Pelicula'], #derretimos el df y tomaria el id de la pelicula y una columna con el numero de director y ulltima columna como el nombre del director \n",
    "                        value_vars=columnas_director, \n",
    "                        var_name='columna_director', \n",
    "                        value_name='nombre_director')\n",
    "    \n",
    "    filtered_df = melted_df[melted_df['nombre_director'] == director] #tomamos solo las columnas que tienen al director\n",
    "\n",
    "    peliculas_aparicion_count = filtered_df['Id_Pelicula'].nunique() #numero de peliculas\n",
    "    peliculas_aparicion = pd.DataFrame(filtered_df['Id_Pelicula'].unique(), columns=['Id_Pelicula']) #df con la lista de peliculas\n",
    "\n",
    "    \n",
    "    df_dir = pd.merge(df, peliculas_aparicion, on='Id_Pelicula', how='inner') #modificamos el df original para sacar solo las peliculas donde aparece el director \n",
    "    retorno_total=df_dir['return'].sum() #suma de retorno\n",
    "    print (f'{director} ha dirigido {peliculas_aparicion_count} películas y ha generado un retorno de {retorno_total}. \\nLas películas que ha dirigido son:')\n",
    "    return df_dir[['title','release_date','return','budget','revenue']]\n"
   ]
  },
  {
   "cell_type": "code",
   "execution_count": 14,
   "metadata": {},
   "outputs": [
    {
     "name": "stdout",
     "output_type": "stream",
     "text": [
      "Christopher Nolan ha dirigido 11 películas y ha generado un retorno de 44.42255888764903. \n",
      "Las películas que ha dirigido son:\n"
     ]
    },
    {
     "data": {
      "text/html": [
       "<div>\n",
       "<style scoped>\n",
       "    .dataframe tbody tr th:only-of-type {\n",
       "        vertical-align: middle;\n",
       "    }\n",
       "\n",
       "    .dataframe tbody tr th {\n",
       "        vertical-align: top;\n",
       "    }\n",
       "\n",
       "    .dataframe thead th {\n",
       "        text-align: right;\n",
       "    }\n",
       "</style>\n",
       "<table border=\"1\" class=\"dataframe\">\n",
       "  <thead>\n",
       "    <tr style=\"text-align: right;\">\n",
       "      <th></th>\n",
       "      <th>title</th>\n",
       "      <th>release_date</th>\n",
       "      <th>return</th>\n",
       "      <th>budget</th>\n",
       "      <th>revenue</th>\n",
       "    </tr>\n",
       "  </thead>\n",
       "  <tbody>\n",
       "    <tr>\n",
       "      <th>0</th>\n",
       "      <td>Following</td>\n",
       "      <td>1998-09-12</td>\n",
       "      <td>8.080333</td>\n",
       "      <td>6000</td>\n",
       "      <td>4.848200e+04</td>\n",
       "    </tr>\n",
       "    <tr>\n",
       "      <th>1</th>\n",
       "      <td>Memento</td>\n",
       "      <td>2000-10-11</td>\n",
       "      <td>4.413677</td>\n",
       "      <td>9000000</td>\n",
       "      <td>3.972310e+07</td>\n",
       "    </tr>\n",
       "    <tr>\n",
       "      <th>2</th>\n",
       "      <td>Insomnia</td>\n",
       "      <td>2002-05-24</td>\n",
       "      <td>2.472062</td>\n",
       "      <td>46000000</td>\n",
       "      <td>1.137148e+08</td>\n",
       "    </tr>\n",
       "    <tr>\n",
       "      <th>3</th>\n",
       "      <td>Batman Begins</td>\n",
       "      <td>2005-06-10</td>\n",
       "      <td>2.494791</td>\n",
       "      <td>150000000</td>\n",
       "      <td>3.742187e+08</td>\n",
       "    </tr>\n",
       "    <tr>\n",
       "      <th>4</th>\n",
       "      <td>The Prestige</td>\n",
       "      <td>2006-10-19</td>\n",
       "      <td>2.741908</td>\n",
       "      <td>40000000</td>\n",
       "      <td>1.096763e+08</td>\n",
       "    </tr>\n",
       "    <tr>\n",
       "      <th>5</th>\n",
       "      <td>The Dark Knight</td>\n",
       "      <td>2008-07-16</td>\n",
       "      <td>5.430046</td>\n",
       "      <td>185000000</td>\n",
       "      <td>1.004558e+09</td>\n",
       "    </tr>\n",
       "    <tr>\n",
       "      <th>6</th>\n",
       "      <td>Inception</td>\n",
       "      <td>2010-07-14</td>\n",
       "      <td>5.159580</td>\n",
       "      <td>160000000</td>\n",
       "      <td>8.255328e+08</td>\n",
       "    </tr>\n",
       "    <tr>\n",
       "      <th>7</th>\n",
       "      <td>The Dark Knight Rises</td>\n",
       "      <td>2012-07-16</td>\n",
       "      <td>4.339756</td>\n",
       "      <td>250000000</td>\n",
       "      <td>1.084939e+09</td>\n",
       "    </tr>\n",
       "    <tr>\n",
       "      <th>8</th>\n",
       "      <td>Interstellar</td>\n",
       "      <td>2014-11-05</td>\n",
       "      <td>4.091636</td>\n",
       "      <td>165000000</td>\n",
       "      <td>6.751200e+08</td>\n",
       "    </tr>\n",
       "    <tr>\n",
       "      <th>9</th>\n",
       "      <td>Doodlebug</td>\n",
       "      <td>1997-01-01</td>\n",
       "      <td>0.000000</td>\n",
       "      <td>0</td>\n",
       "      <td>0.000000e+00</td>\n",
       "    </tr>\n",
       "    <tr>\n",
       "      <th>10</th>\n",
       "      <td>Dunkirk</td>\n",
       "      <td>2017-07-19</td>\n",
       "      <td>5.198769</td>\n",
       "      <td>100000000</td>\n",
       "      <td>5.198769e+08</td>\n",
       "    </tr>\n",
       "  </tbody>\n",
       "</table>\n",
       "</div>"
      ],
      "text/plain": [
       "                    title release_date    return     budget       revenue\n",
       "0               Following   1998-09-12  8.080333       6000  4.848200e+04\n",
       "1                 Memento   2000-10-11  4.413677    9000000  3.972310e+07\n",
       "2                Insomnia   2002-05-24  2.472062   46000000  1.137148e+08\n",
       "3           Batman Begins   2005-06-10  2.494791  150000000  3.742187e+08\n",
       "4            The Prestige   2006-10-19  2.741908   40000000  1.096763e+08\n",
       "5         The Dark Knight   2008-07-16  5.430046  185000000  1.004558e+09\n",
       "6               Inception   2010-07-14  5.159580  160000000  8.255328e+08\n",
       "7   The Dark Knight Rises   2012-07-16  4.339756  250000000  1.084939e+09\n",
       "8            Interstellar   2014-11-05  4.091636  165000000  6.751200e+08\n",
       "9               Doodlebug   1997-01-01  0.000000          0  0.000000e+00\n",
       "10                Dunkirk   2017-07-19  5.198769  100000000  5.198769e+08"
      ]
     },
     "execution_count": 14,
     "metadata": {},
     "output_type": "execute_result"
    }
   ],
   "source": [
    "get_director('Christopher Nolan')"
   ]
  }
 ],
 "metadata": {
  "kernelspec": {
   "display_name": "Python 3",
   "language": "python",
   "name": "python3"
  },
  "language_info": {
   "codemirror_mode": {
    "name": "ipython",
    "version": 3
   },
   "file_extension": ".py",
   "mimetype": "text/x-python",
   "name": "python",
   "nbconvert_exporter": "python",
   "pygments_lexer": "ipython3",
   "version": "3.12.4"
  }
 },
 "nbformat": 4,
 "nbformat_minor": 2
}
