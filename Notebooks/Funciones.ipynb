{
 "cells": [
  {
   "cell_type": "code",
   "execution_count": 1,
   "metadata": {},
   "outputs": [
    {
     "name": "stderr",
     "output_type": "stream",
     "text": [
      "C:\\Users\\Fernando\\AppData\\Local\\Temp\\ipykernel_13636\\2809647511.py:3: DtypeWarning: Columns (26,28,30,32,34,36,38,40,42,44,46,48,50,52,54,56,58,60,62,64,66,68,70,72,74,76,78,80,82,84) have mixed types. Specify dtype option on import or set low_memory=False.\n",
      "  df_directores=pd.read_csv(r'C:\\Users\\Fernando\\Desktop\\Proyecto 1\\Proyecto-Individual-1-ML\\data procesada para funciones\\directores_procesado')\n",
      "C:\\Users\\Fernando\\AppData\\Local\\Temp\\ipykernel_13636\\2809647511.py:4: DtypeWarning: Columns (116,118,120,122,124,126,128,130,132,134,136,138,140,142,144,146,148,150,152,154,156,158,160,162,164,166,168,170,172,174,176,178,180,182,184,186,188,190,192,194,196,198,200,202,204,206,208,210,212,214,216,218,220,222,224,226,228,230,232,234,236,238,240,242,244,246,248,250,252,254,256,258,260,262,264,266,268,270,272,274,276,278,280,282,284,286,288,290,292,294,296,298,300,302,304,306,308,310,312,314,316,318,320,322,324,326,328,330,332,334,336,338,340,342,344,346,348,350,352,354,356,358,360,362,364,366,368,370,372,374,376,378,380,382,384,386,388,390,392,394,396,398,400,402,404,406,408,410,412,414,416,418,420,422,424,426,428,430,432,434,436,438,440,442,444,446,448,450,452,454,456,458,460,462,464,466,468,470,472,474,476,478,480,482,484,486,488,490,492,494,496,498,500,502,504,506,508,510,512,514,516,518,520,522,524,526,528,530,532,534,536,538,540,542,544,546,548,550,552,554,556,558,560,562,564,566,568,570,572,574,576,578,580,582,584,586,588,590,592,594,596,598,600,602,604,606,608,610,612,614,616,618,620,622,624,626) have mixed types. Specify dtype option on import or set low_memory=False.\n",
      "  df_actores=pd.read_csv(r'C:\\Users\\Fernando\\Desktop\\Proyecto 1\\Proyecto-Individual-1-ML\\data procesada para funciones\\actores_procesado')\n"
     ]
    }
   ],
   "source": [
    "import pandas as pd\n",
    "df=pd.read_csv(r'C:\\Users\\Fernando\\Desktop\\Proyecto 1\\Proyecto-Individual-1-ML\\data procesada para funciones\\movies_procesado')\n",
    "df_directores=pd.read_csv(r'C:\\Users\\Fernando\\Desktop\\Proyecto 1\\Proyecto-Individual-1-ML\\data procesada para funciones\\directores_procesado')\n",
    "df_actores=pd.read_csv(r'C:\\Users\\Fernando\\Desktop\\Proyecto 1\\Proyecto-Individual-1-ML\\data procesada para funciones\\actores_procesado')"
   ]
  },
  {
   "cell_type": "code",
   "execution_count": 2,
   "metadata": {},
   "outputs": [],
   "source": [
    "df.drop('Unnamed: 0',axis=1,inplace=True)"
   ]
  },
  {
   "cell_type": "code",
   "execution_count": 3,
   "metadata": {},
   "outputs": [],
   "source": [
    "df.rename(columns={'id':'Id_Pelicula'},inplace=True)"
   ]
  },
  {
   "cell_type": "code",
   "execution_count": 4,
   "metadata": {},
   "outputs": [
    {
     "data": {
      "text/html": [
       "<div>\n",
       "<style scoped>\n",
       "    .dataframe tbody tr th:only-of-type {\n",
       "        vertical-align: middle;\n",
       "    }\n",
       "\n",
       "    .dataframe tbody tr th {\n",
       "        vertical-align: top;\n",
       "    }\n",
       "\n",
       "    .dataframe thead th {\n",
       "        text-align: right;\n",
       "    }\n",
       "</style>\n",
       "<table border=\"1\" class=\"dataframe\">\n",
       "  <thead>\n",
       "    <tr style=\"text-align: right;\">\n",
       "      <th></th>\n",
       "      <th>belongs_to_collection</th>\n",
       "      <th>budget</th>\n",
       "      <th>genres</th>\n",
       "      <th>Id_Pelicula</th>\n",
       "      <th>original_language</th>\n",
       "      <th>overview</th>\n",
       "      <th>popularity</th>\n",
       "      <th>production_companies</th>\n",
       "      <th>production_countries</th>\n",
       "      <th>release_date</th>\n",
       "      <th>...</th>\n",
       "      <th>runtime</th>\n",
       "      <th>spoken_languages</th>\n",
       "      <th>status</th>\n",
       "      <th>tagline</th>\n",
       "      <th>title</th>\n",
       "      <th>vote_average</th>\n",
       "      <th>vote_count</th>\n",
       "      <th>return</th>\n",
       "      <th>release_year</th>\n",
       "      <th>day_of_week_release</th>\n",
       "    </tr>\n",
       "  </thead>\n",
       "  <tbody>\n",
       "    <tr>\n",
       "      <th>0</th>\n",
       "      <td>{'id': 10194, 'name': 'Toy Story Collection', ...</td>\n",
       "      <td>30000000</td>\n",
       "      <td>[{'id': 16, 'name': 'Animation'}, {'id': 35, '...</td>\n",
       "      <td>862</td>\n",
       "      <td>en</td>\n",
       "      <td>Led by Woody, Andy's toys live happily in his ...</td>\n",
       "      <td>21.946943</td>\n",
       "      <td>[{'name': 'Pixar Animation Studios', 'id': 3}]</td>\n",
       "      <td>[{'iso_3166_1': 'US', 'name': 'United States o...</td>\n",
       "      <td>1995-10-30</td>\n",
       "      <td>...</td>\n",
       "      <td>81.0</td>\n",
       "      <td>[{'iso_639_1': 'en', 'name': 'English'}]</td>\n",
       "      <td>Released</td>\n",
       "      <td>NaN</td>\n",
       "      <td>Toy Story</td>\n",
       "      <td>7.7</td>\n",
       "      <td>5415.0</td>\n",
       "      <td>12.451801</td>\n",
       "      <td>1995</td>\n",
       "      <td>Monday</td>\n",
       "    </tr>\n",
       "    <tr>\n",
       "      <th>1</th>\n",
       "      <td>NaN</td>\n",
       "      <td>65000000</td>\n",
       "      <td>[{'id': 12, 'name': 'Adventure'}, {'id': 14, '...</td>\n",
       "      <td>8844</td>\n",
       "      <td>en</td>\n",
       "      <td>When siblings Judy and Peter discover an encha...</td>\n",
       "      <td>17.015539</td>\n",
       "      <td>[{'name': 'TriStar Pictures', 'id': 559}, {'na...</td>\n",
       "      <td>[{'iso_3166_1': 'US', 'name': 'United States o...</td>\n",
       "      <td>1995-12-15</td>\n",
       "      <td>...</td>\n",
       "      <td>104.0</td>\n",
       "      <td>[{'iso_639_1': 'en', 'name': 'English'}, {'iso...</td>\n",
       "      <td>Released</td>\n",
       "      <td>Roll the dice and unleash the excitement!</td>\n",
       "      <td>Jumanji</td>\n",
       "      <td>6.9</td>\n",
       "      <td>2413.0</td>\n",
       "      <td>4.043035</td>\n",
       "      <td>1995</td>\n",
       "      <td>Friday</td>\n",
       "    </tr>\n",
       "    <tr>\n",
       "      <th>2</th>\n",
       "      <td>{'id': 119050, 'name': 'Grumpy Old Men Collect...</td>\n",
       "      <td>0</td>\n",
       "      <td>[{'id': 10749, 'name': 'Romance'}, {'id': 35, ...</td>\n",
       "      <td>15602</td>\n",
       "      <td>en</td>\n",
       "      <td>A family wedding reignites the ancient feud be...</td>\n",
       "      <td>11.712900</td>\n",
       "      <td>[{'name': 'Warner Bros.', 'id': 6194}, {'name'...</td>\n",
       "      <td>[{'iso_3166_1': 'US', 'name': 'United States o...</td>\n",
       "      <td>1995-12-22</td>\n",
       "      <td>...</td>\n",
       "      <td>101.0</td>\n",
       "      <td>[{'iso_639_1': 'en', 'name': 'English'}]</td>\n",
       "      <td>Released</td>\n",
       "      <td>Still Yelling. Still Fighting. Still Ready for...</td>\n",
       "      <td>Grumpier Old Men</td>\n",
       "      <td>6.5</td>\n",
       "      <td>92.0</td>\n",
       "      <td>0.000000</td>\n",
       "      <td>1995</td>\n",
       "      <td>Friday</td>\n",
       "    </tr>\n",
       "  </tbody>\n",
       "</table>\n",
       "<p>3 rows × 21 columns</p>\n",
       "</div>"
      ],
      "text/plain": [
       "                               belongs_to_collection    budget  \\\n",
       "0  {'id': 10194, 'name': 'Toy Story Collection', ...  30000000   \n",
       "1                                                NaN  65000000   \n",
       "2  {'id': 119050, 'name': 'Grumpy Old Men Collect...         0   \n",
       "\n",
       "                                              genres  Id_Pelicula  \\\n",
       "0  [{'id': 16, 'name': 'Animation'}, {'id': 35, '...          862   \n",
       "1  [{'id': 12, 'name': 'Adventure'}, {'id': 14, '...         8844   \n",
       "2  [{'id': 10749, 'name': 'Romance'}, {'id': 35, ...        15602   \n",
       "\n",
       "  original_language                                           overview  \\\n",
       "0                en  Led by Woody, Andy's toys live happily in his ...   \n",
       "1                en  When siblings Judy and Peter discover an encha...   \n",
       "2                en  A family wedding reignites the ancient feud be...   \n",
       "\n",
       "   popularity                               production_companies  \\\n",
       "0   21.946943     [{'name': 'Pixar Animation Studios', 'id': 3}]   \n",
       "1   17.015539  [{'name': 'TriStar Pictures', 'id': 559}, {'na...   \n",
       "2   11.712900  [{'name': 'Warner Bros.', 'id': 6194}, {'name'...   \n",
       "\n",
       "                                production_countries release_date  ...  \\\n",
       "0  [{'iso_3166_1': 'US', 'name': 'United States o...   1995-10-30  ...   \n",
       "1  [{'iso_3166_1': 'US', 'name': 'United States o...   1995-12-15  ...   \n",
       "2  [{'iso_3166_1': 'US', 'name': 'United States o...   1995-12-22  ...   \n",
       "\n",
       "   runtime                                   spoken_languages    status  \\\n",
       "0     81.0           [{'iso_639_1': 'en', 'name': 'English'}]  Released   \n",
       "1    104.0  [{'iso_639_1': 'en', 'name': 'English'}, {'iso...  Released   \n",
       "2    101.0           [{'iso_639_1': 'en', 'name': 'English'}]  Released   \n",
       "\n",
       "                                             tagline             title  \\\n",
       "0                                                NaN         Toy Story   \n",
       "1          Roll the dice and unleash the excitement!           Jumanji   \n",
       "2  Still Yelling. Still Fighting. Still Ready for...  Grumpier Old Men   \n",
       "\n",
       "  vote_average  vote_count     return  release_year  day_of_week_release  \n",
       "0          7.7      5415.0  12.451801          1995               Monday  \n",
       "1          6.9      2413.0   4.043035          1995               Friday  \n",
       "2          6.5        92.0   0.000000          1995               Friday  \n",
       "\n",
       "[3 rows x 21 columns]"
      ]
     },
     "execution_count": 4,
     "metadata": {},
     "output_type": "execute_result"
    }
   ],
   "source": [
    "df.head(3)"
   ]
  },
  {
   "cell_type": "markdown",
   "metadata": {},
   "source": [
    "def cantidad_filmaciones_mes( Mes ): Se ingresa un mes en idioma Español. Debe devolver la cantidad de películas que fueron estrenadas en el mes consultado en la totalidad del dataset."
   ]
  },
  {
   "cell_type": "code",
   "execution_count": 5,
   "metadata": {},
   "outputs": [],
   "source": [
    "def cantidad_filmaciones_mes(mes): #definimos\n",
    "    meses={'enero':1,'febrero':2,'marzo':3,'abril':4,'mayo':5,'junio':6,'julio':7,'agosto':8,'septiembre':9,'octube':10,'noviembre':11,'diciembre':12} #diccionario de valores para convertir mes a numero\n",
    "    mes=mes.lower() #estandarizar el input\n",
    "    df['release_date']=pd.to_datetime(df['release_date'], format='%Y-%m-%d') #convertimos la fila a datetime\n",
    "    print(f'{df.loc[df['release_date'].dt.month==meses[mes]].shape[0]} peliculas fueron estrenadas en el mes de {mes.title()}') #imprimimos el output de la funcion\n",
    "    "
   ]
  },
  {
   "cell_type": "code",
   "execution_count": 6,
   "metadata": {},
   "outputs": [
    {
     "name": "stdout",
     "output_type": "stream",
     "text": [
      "5912 peliculas fueron estrenadas en el mes de Enero\n"
     ]
    }
   ],
   "source": [
    "cantidad_filmaciones_mes('eNeRO')"
   ]
  },
  {
   "cell_type": "markdown",
   "metadata": {},
   "source": [
    "def cantidad_filmaciones_dia( Dia ): Se ingresa un día en idioma Español. Debe devolver la cantidad de películas que fueron estrenadas en día consultado en la totalidad del dataset."
   ]
  },
  {
   "cell_type": "code",
   "execution_count": 7,
   "metadata": {},
   "outputs": [],
   "source": [
    "def cantidad_filmaciones_dia(dia):\n",
    "    dias={'lunes':'Monday','martes':'Tuesday','miercoles':'Wednesday','jueves':'Thursday','viernes':'Friday','sabado':'Saturday','domingo':'Sunday'} #diccionario con el nombre en espanol y su equivalente en ingles del df\n",
    "    dia=dia.lower() #estandarizamos\n",
    "    print(f'{df.loc[df['day_of_week_release']==dias[dia]].shape[0]} fueron estrenadas en días {dia.title()}') #sacamos las filas del dataframe que cumple con esas condiciones"
   ]
  },
  {
   "cell_type": "code",
   "execution_count": 8,
   "metadata": {},
   "outputs": [
    {
     "name": "stdout",
     "output_type": "stream",
     "text": [
      "13908 fueron estrenadas en días Viernes\n"
     ]
    }
   ],
   "source": [
    "cantidad_filmaciones_dia('viernes')"
   ]
  },
  {
   "cell_type": "markdown",
   "metadata": {},
   "source": [
    "\n",
    "def score_titulo( titulo_de_la_filmación ): Se ingresa el título de una filmación esperando como respuesta el título, el año de estreno y el score.\n",
    "\n",
    "                \n"
   ]
  },
  {
   "cell_type": "code",
   "execution_count": 9,
   "metadata": {},
   "outputs": [],
   "source": [
    "def score_titulo(titulo_de_la_filmacion):\n",
    "    pelicula = df.loc[df['title'] == titulo_de_la_filmacion] #nuevo df con la condicion establecida\n",
    "\n",
    "    if pelicula.empty:\n",
    "        print(f'No se encontró la película con el título \"{titulo_de_la_filmacion}\".') #prevenimos un error si la pelicula no esta en el dataframe\n",
    "        return None\n",
    "    \n",
    "    titulo = pelicula['title'].values[0]\n",
    "    score = pelicula['popularity'].values[0] #sacamos los datos que nos interesan y los guardamos en variables\n",
    "    year = pelicula['release_year'].values[0]\n",
    "\n",
    "    print(f'La pelicula {titulo} fue estrenada en el año {year} con un score de: {score}') #imprimimos en f string con los datos de interes"
   ]
  },
  {
   "cell_type": "code",
   "execution_count": 10,
   "metadata": {},
   "outputs": [
    {
     "name": "stdout",
     "output_type": "stream",
     "text": [
      "La pelicula Star Wars fue estrenada en el año 1977 con un score de: 42.149697\n"
     ]
    }
   ],
   "source": [
    "score_titulo('Star Wars')"
   ]
  },
  {
   "cell_type": "markdown",
   "metadata": {},
   "source": [
    "\n",
    "def votos_titulo( titulo_de_la_filmación ): Se ingresa el título de una filmación esperando como respuesta el título, la cantidad de votos y el valor promedio de las votaciones. La misma variable deberá de contar con al menos 2000 valoraciones, caso contrario, debemos contar con un mensaje avisando que no cumple esta condición y que por ende, no se devuelve ningun valor."
   ]
  },
  {
   "cell_type": "code",
   "execution_count": 11,
   "metadata": {},
   "outputs": [],
   "source": [
    "def votos_titulo( titulo_de_la_filmacion ):\n",
    "    pelicula = df.loc[df['title'] == titulo_de_la_filmacion] #df con las caracteristicas que buscamos \n",
    "\n",
    "    if pelicula.empty:\n",
    "        print(f'No se encontró la película con el título \"{titulo_de_la_filmacion}\".') #prevenimos un error si la pelicula no se encuentra\n",
    "        return None\n",
    "    \n",
    "    titulo = pelicula['title'].values[0]\n",
    "    votos=pelicula['vote_count'].values[0] #guardamos la variables que nos interesan\n",
    "    vavg=pelicula['vote_average'].values[0]\n",
    "    \n",
    "    if votos>=2000:\n",
    "        print(f'La pelicula {titulo} cuenta con {votos} valoraciones, con un puntaje promedio de {vavg}') #imprimimos si la pelicula tiene mas de 2000 votos\n",
    "    else:\n",
    "        print('La pelicula cuenta con menos de 2000 votos') # en caso de que no, se le notifica al usuario"
   ]
  },
  {
   "cell_type": "code",
   "execution_count": 12,
   "metadata": {},
   "outputs": [
    {
     "name": "stdout",
     "output_type": "stream",
     "text": [
      "La pelicula Forrest Gump cuenta con 8147.0 valoraciones, con un puntaje promedio de 8.2\n"
     ]
    }
   ],
   "source": [
    "votos_titulo('Forrest Gump')"
   ]
  },
  {
   "cell_type": "markdown",
   "metadata": {},
   "source": [
    "def get_actor( nombre_actor ): Se ingresa el nombre de un actor que se encuentre dentro de un dataset debiendo devolver el éxito del mismo medido a través del retorno. Además, la cantidad de películas que en las que ha participado y el promedio de retorno. La definición no deberá considerar directores."
   ]
  },
  {
   "cell_type": "code",
   "execution_count": 35,
   "metadata": {},
   "outputs": [],
   "source": [
    "def get_actor(nombre_actor):\n",
    "    # Select columns containing actor names\n",
    "    columnas_actor = [col for col in df_actores.columns if 'Actor ' in col and 'Id' not in col]\n",
    "    \n",
    "    # Melt the DataFrame to long format\n",
    "    melted_df = df_actores.melt(id_vars=['Id_Pelicula'], \n",
    "                        value_vars=columnas_actor, \n",
    "                        var_name='actor_column', \n",
    "                        value_name='nombre_actor')\n",
    "\n",
    "    # Filter by the actor's name\n",
    "    filtered_df = melted_df[melted_df['nombre_actor'] == nombre_actor]\n",
    "\n",
    "    # Count the number of unique movie IDs\n",
    "    peliculas_aparicion_count = filtered_df['Id_Pelicula'].shape[0]\n",
    "    peliculas_aparicion = pd.DataFrame(filtered_df['Id_Pelicula'].unique(), columns=['Id_Pelicula'])\n",
    "\n",
    "    # Perform the merge\n",
    "    df_act = pd.merge(df, peliculas_aparicion, on='Id_Pelicula', how='inner')\n",
    "    avg_retorno=df_act['return'].mean()\n",
    "    retorno_total=df_act['return'].sum()\n",
    "\n",
    "    print(f'El actor {nombre_actor} aparece en {peliculas_aparicion_count} peliculas con un retorno total de {retorno_total} y retorno promedio de {avg_retorno}')\n"
   ]
  },
  {
   "cell_type": "code",
   "execution_count": 36,
   "metadata": {},
   "outputs": [
    {
     "name": "stdout",
     "output_type": "stream",
     "text": [
      "El actor Hayden Christensen aparece en 19 peliculas con un retorno total de 22.98279476184134 y retorno promedio de 1.209620776939018\n"
     ]
    }
   ],
   "source": [
    "get_actor('Hayden Christensen')"
   ]
  },
  {
   "cell_type": "markdown",
   "metadata": {},
   "source": [
    "def get_director( nombre_director ): Se ingresa el nombre de un director que se encuentre dentro de un dataset debiendo devolver el éxito del mismo medido a través del retorno. Además, deberá devolver el nombre de cada película con la fecha de lanzamiento, retorno individual, costo y ganancia de la misma."
   ]
  }
 ],
 "metadata": {
  "kernelspec": {
   "display_name": "Python 3",
   "language": "python",
   "name": "python3"
  },
  "language_info": {
   "codemirror_mode": {
    "name": "ipython",
    "version": 3
   },
   "file_extension": ".py",
   "mimetype": "text/x-python",
   "name": "python",
   "nbconvert_exporter": "python",
   "pygments_lexer": "ipython3",
   "version": "3.12.4"
  }
 },
 "nbformat": 4,
 "nbformat_minor": 2
}
